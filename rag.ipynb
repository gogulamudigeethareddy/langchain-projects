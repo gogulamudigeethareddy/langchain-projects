{
 "cells": [
  {
   "cell_type": "code",
   "execution_count": null,
   "id": "316c1f28",
   "metadata": {},
   "outputs": [],
   "source": [
    "! pip install langchain-community pypdf"
   ]
  },
  {
   "cell_type": "code",
   "execution_count": 2,
   "id": "7f871322",
   "metadata": {},
   "outputs": [
    {
     "data": {
      "text/plain": [
       "AIMessage(content='Hello! How can I assist you today?', additional_kwargs={'refusal': None}, response_metadata={'token_usage': {'completion_tokens': 9, 'prompt_tokens': 11, 'total_tokens': 20, 'completion_tokens_details': {'accepted_prediction_tokens': 0, 'audio_tokens': 0, 'reasoning_tokens': 0, 'rejected_prediction_tokens': 0}, 'prompt_tokens_details': {'audio_tokens': 0, 'cached_tokens': 0}}, 'model_name': 'gpt-3.5-turbo-0125', 'system_fingerprint': None, 'id': 'chatcmpl-Bijd4kj45kEod3cat2HExjBls4Q4w', 'service_tier': 'default', 'finish_reason': 'stop', 'logprobs': None}, id='run--f81872ae-a0e7-4df4-889e-6f1996c65967-0', usage_metadata={'input_tokens': 11, 'output_tokens': 9, 'total_tokens': 20, 'input_token_details': {'audio': 0, 'cache_read': 0}, 'output_token_details': {'audio': 0, 'reasoning': 0}})"
      ]
     },
     "execution_count": 2,
     "metadata": {},
     "output_type": "execute_result"
    }
   ],
   "source": [
    "from langchain_openai import ChatOpenAI\n",
    "\n",
    "llm = ChatOpenAI()\n",
    "llm.invoke(\"Hello, world!\")"
   ]
  },
  {
   "cell_type": "code",
   "execution_count": 3,
   "id": "b8476495",
   "metadata": {},
   "outputs": [],
   "source": [
    "from langchain_core.documents import Document\n",
    "\n",
    "documents = [\n",
    "    Document(\n",
    "        page_content=\"Dogs are great companions, known for their loyalty and friendliness.\",\n",
    "        metadata={\"source\": \"mammal-pets-doc\"},\n",
    "    ),\n",
    "    Document(\n",
    "        page_content=\"Cats are independent pets that often enjoy their own space.\",\n",
    "        metadata={\"source\": \"mammal-pets-doc\"},\n",
    "    ),\n",
    "]"
   ]
  },
  {
   "cell_type": "code",
   "execution_count": 4,
   "id": "18dd16d5",
   "metadata": {},
   "outputs": [
    {
     "name": "stdout",
     "output_type": "stream",
     "text": [
      "88\n"
     ]
    }
   ],
   "source": [
    "from langchain_community.document_loaders import PyPDFLoader\n",
    "\n",
    "# file_path = \"../langchain-projects/mml-book.pdf\"\n",
    "file_path = \"../langchain-projects/GitLab Repository Management.pdf\"\n",
    "loader = PyPDFLoader(file_path)\n",
    "\n",
    "docs = loader.load()\n",
    "\n",
    "print(len(docs))"
   ]
  },
  {
   "cell_type": "code",
   "execution_count": 5,
   "id": "c05d232a",
   "metadata": {},
   "outputs": [
    {
     "name": "stdout",
     "output_type": "stream",
     "text": [
      "\n",
      "\n",
      "{'producer': 'Adobe PDF Library 10.0.1', 'creator': 'Adobe InDesign CS6 (Windows)', 'creationdate': '2013-11-21T10:31:14+05:30', 'moddate': '2013-11-21T10:44:41+05:30', 'trapped': '/False', 'source': '../langchain-projects/GitLab Repository Management.pdf', 'total_pages': 88, 'page': 0, 'page_label': 'Cover'}\n"
     ]
    }
   ],
   "source": [
    "print(f\"{docs[0].page_content[:200]}\\n\")\n",
    "print(docs[0].metadata)"
   ]
  },
  {
   "cell_type": "code",
   "execution_count": 6,
   "id": "06162816",
   "metadata": {},
   "outputs": [
    {
     "data": {
      "text/plain": [
       "183"
      ]
     },
     "execution_count": 6,
     "metadata": {},
     "output_type": "execute_result"
    }
   ],
   "source": [
    "from langchain_text_splitters import RecursiveCharacterTextSplitter\n",
    "\n",
    "text_splitter = RecursiveCharacterTextSplitter(\n",
    "    chunk_size=882, chunk_overlap=20, add_start_index=True\n",
    ")\n",
    "all_splits = text_splitter.split_documents(docs)\n",
    "\n",
    "len(all_splits)"
   ]
  },
  {
   "cell_type": "code",
   "execution_count": 7,
   "id": "7f90101d",
   "metadata": {},
   "outputs": [],
   "source": [
    "from langchain_openai import OpenAIEmbeddings\n",
    "\n",
    "embeddings = OpenAIEmbeddings(model=\"text-embedding-3-large\")"
   ]
  },
  {
   "cell_type": "code",
   "execution_count": 8,
   "id": "99507cd4",
   "metadata": {},
   "outputs": [
    {
     "name": "stdout",
     "output_type": "stream",
     "text": [
      "Generated vectors of length 3072\n",
      "\n",
      "[-0.032804619520902634, 0.014470345340669155, -0.009233088232576847, -0.0017981246346607804, -0.015952294692397118, 0.009993460960686207, -0.007669670507311821, 0.024657778441905975, -0.041742872446775436, -0.0027854444924741983]\n"
     ]
    }
   ],
   "source": [
    "vector_1 = embeddings.embed_query(all_splits[0].page_content)\n",
    "vector_2 = embeddings.embed_query(all_splits[1].page_content)\n",
    "\n",
    "assert len(vector_1) == len(vector_2)\n",
    "print(f\"Generated vectors of length {len(vector_1)}\\n\")\n",
    "print(vector_1[:10])"
   ]
  },
  {
   "cell_type": "code",
   "execution_count": null,
   "id": "2dffb9d1",
   "metadata": {},
   "outputs": [],
   "source": [
    "! pip install -qU langchain-pinecone"
   ]
  },
  {
   "cell_type": "code",
   "execution_count": null,
   "id": "200196cf",
   "metadata": {},
   "outputs": [],
   "source": [
    "from langchain_pinecone import PineconeVectorStore\n",
    "from pinecone import Pinecone\n",
    "import os\n",
    "\n",
    "api_key = os.environ.get(\"PINECONE_API_KEY\")\n",
    "if not api_key:\n",
    "    raise ValueError(\"Please set the PINECONE_API_KEY environment variable.\")\n",
    "\n",
    "pc = Pinecone(api_key=api_key)\n",
    "\n",
    "index = pc.Index(\n",
    "    index_name=\"rag-index\",\n",
    "    host=\"https://rag-index-4h6dcep.svc.aped-4627-b74a.pinecone.io\",\n",
    ")\n",
    "\n",
    "vector_store = PineconeVectorStore(embedding=embeddings, index=index)"
   ]
  },
  {
   "cell_type": "code",
   "execution_count": 10,
   "id": "11378db8",
   "metadata": {},
   "outputs": [],
   "source": [
    "ids = vector_store.add_documents(documents=all_splits)"
   ]
  },
  {
   "cell_type": "code",
   "execution_count": 11,
   "id": "e9c3f8aa",
   "metadata": {},
   "outputs": [
    {
     "name": "stdout",
     "output_type": "stream",
     "text": [
      "[]\n"
     ]
    }
   ],
   "source": [
    "results = vector_store.similarity_search(\n",
    "    \"Who is the author of the book?\"\n",
    ")\n",
    "\n",
    "print(results)"
   ]
  },
  {
   "cell_type": "code",
   "execution_count": 12,
   "id": "0460c87e",
   "metadata": {},
   "outputs": [
    {
     "name": "stdout",
     "output_type": "stream",
     "text": [
      "Largest chunk size in bytes: 893\n"
     ]
    }
   ],
   "source": [
    "max_len = max(len(doc.page_content.encode('utf-8')) for doc in all_splits)\n",
    "print(f\"Largest chunk size in bytes: {max_len}\")"
   ]
  },
  {
   "cell_type": "code",
   "execution_count": null,
   "id": "7638351a",
   "metadata": {},
   "outputs": [],
   "source": [
    "# Note that providers implement different scores; the score here\n",
    "# is a distance metric that varies inversely with similarity.\n",
    "\n",
    "results = vector_store.similarity_search_with_score(\"How to manage the Roles and the permissions in GitLab?\")\n",
    "from langchain.chains import RetrievalQA\n",
    "\n",
    "# Wrap your vector store as a retriever\n",
    "retriever = vector_store.as_retriever()\n",
    "\n",
    "# Create a RetrievalQA chain\n",
    "qa_chain = RetrievalQA.from_chain_type(\n",
    "    llm=llm,\n",
    "    retriever=retriever,\n",
    "    return_source_documents=True,\n",
    ")\n",
    "\n",
    "# Now you can ask questions using the chain\n",
    "result = qa_chain.invoke({\"query\": \"How to manage the Roles and the permissions in GitLab?\"})\n",
    "print(\"Answer:\", result[\"result\"])\n",
    "print(\"Source documents:\", result[\"source_documents\"])\n",
    "# Print the top result's score and document\n",
    "if results:\n",
    "    doc, score = results[0]\n",
    "    print(f\"Score: {score}\\n\")\n",
    "    print(doc)\n",
    "else:\n",
    "    print(\"No results found.\")"
   ]
  },
  {
   "cell_type": "code",
   "execution_count": 17,
   "id": "15b8c304",
   "metadata": {},
   "outputs": [
    {
     "name": "stdout",
     "output_type": "stream",
     "text": [
      "Answer: To manage roles and permissions in GitLab, you can follow these steps:\n",
      "\n",
      "1. Understand the available roles: GitLab offers roles like Guest, Reporter, Developer, Maintainer, and Owner, each with different levels of access and permissions.\n",
      "\n",
      "2. Add users: You can add users to your GitLab project, and they will automatically gain access to the repositories assigned to their team.\n",
      "\n",
      "3. Configure permissions: Assign appropriate roles to users based on the level of access they require. You can control functions like pushing to repositories and access to specific branches.\n",
      "\n",
      "4. Manage teams and groups: Combine multiple users into teams to streamline permissions and collaboration.\n",
      "\n",
      "5. For managing SSH keys: You can revoke a user's keys by having them delete it from their list of SSH keys in their profile. If the user can't do it themselves, you can manually delete the key from the authorized_keys file (/home/git/.ssh/authorized_keys) on the server-side.\n",
      "\n",
      "By following these steps, you can effectively manage roles and permissions in GitLab to control who can do what within your projects.\n",
      "Source documents: [Document(id='0a3166e7-254d-48ef-b08f-f14eff6ea16a', metadata={'creationdate': '2013-11-21T10:31:14+05:30', 'creator': 'Adobe InDesign CS6 (Windows)', 'moddate': '2013-11-21T10:44:41+05:30', 'page': 52.0, 'page_label': '42', 'producer': 'Adobe PDF Library 10.0.1', 'source': '../langchain-projects/GitLab Repository Management.pdf', 'start_index': 0.0, 'total_pages': 88.0, 'trapped': '/False'}, page_content=\"Roles and Permissions\\n[  42 ]\\nSince GitLab 6, the team and group functionalities have been \\ncombined. So that permissions do not have to be granted individually, \\nusers added will automatically gain access to the repositories their \\nteam is assigned to.\\nManaging SSH keys\\nYou can't access other user's SSH public keys through the web interface, but you  \\ncan do this by opening the file that lists all the added SSH keys.\\nOpen the file on the server-side at /home/git/.ssh/authorized_keys.\\nIt will show you a list of the keys. The users e-mail address is shown at the end of \\nevery line, which is how you can differentiate between them.\\nIn a scenario such as when a user's private key is compromised, they can revoke  \\ntheir own keys by deleting them from the account. This can be done by pressing  \\nthe Remove button from within their list of SSH keys inside their profile.\"), Document(id='3c85113d-13a4-4386-80d2-0f3601e89858', metadata={'creationdate': '2013-11-21T10:31:14+05:30', 'creator': 'Adobe InDesign CS6 (Windows)', 'moddate': '2013-11-21T10:44:41+05:30', 'page': 52.0, 'page_label': '42', 'producer': 'Adobe PDF Library 10.0.1', 'source': '../langchain-projects/GitLab Repository Management.pdf', 'start_index': 875.0, 'total_pages': 88.0, 'trapped': '/False'}, page_content=\"If the user can't do it because they don't have access to either a computer or the \\nInternet, you can manually delete the key from this file to prevent any Git access  \\nwith this key.\\nSummary\\nYou have now learned about the different roles and the permissions they grant. \\nGitLab offers diverse roles to ensure the management of projects will fit your needs. \\nYou now know how to assign roles to keep your code safe, but enable the opening of \\nissues, for example, through interns or external testers with the Guest role. You also \\ncan distribute permissions for developers, decide to which branches they may push \\nto and which branches are controlled by their project manager, and who decides \\nwhich changes go into production.\\nIn the next chapter, we are going to have a look at how we can use GitLab's built-in\"), Document(id='5c88ac7b-f8fd-4c01-8d12-8c9800e4bff4', metadata={'creationdate': '2013-11-21T10:31:14+05:30', 'creator': 'Adobe InDesign CS6 (Windows)', 'moddate': '2013-11-21T10:44:41+05:30', 'page': 17.0, 'page_label': '7', 'producer': 'Adobe PDF Library 10.0.1', 'source': '../langchain-projects/GitLab Repository Management.pdf', 'start_index': 0.0, 'total_pages': 88.0, 'trapped': '/False'}, page_content='Chapter 1\\n[  7 ]\\nManaging permissions\\nWho has the permission to do what, and how easy is it to add and change team \\nmembers? These are the key questions you should ask yourself when dealing with \\nadministering users on any platform.\\nGitLab has some very well-designed roles, and allows you to apply these. From \\nguest to master, you have diverse possibilities to limit and grant access to functions \\nsuch as pushing to repositories or which branches a developer can push to, so that \\nyou can control which code ends up in your product or project.\\nDocumenting your project\\nDocumenting projects can be a difficult thing to track, because it is often not \\ndescribed as an important task from the start; but, with GitLab you have great tools \\nfor making it more meaningful and faster to create. Through built-in issue tracking'), Document(id='7dd2e76d-6c0a-4b1e-90d0-afd3d0d9856d', metadata={'creationdate': '2013-11-21T10:31:14+05:30', 'creator': 'Adobe InDesign CS6 (Windows)', 'moddate': '2013-11-21T10:44:41+05:30', 'page': 39.0, 'page_label': '29', 'producer': 'Adobe PDF Library 10.0.1', 'source': '../langchain-projects/GitLab Repository Management.pdf', 'start_index': 0.0, 'total_pages': 88.0, 'trapped': '/False'}, page_content='Roles and Permissions\\nRoles and the permissions they grant over repositories in GitLab are some of the \\nmost powerful features of the whole service. In this chapter, we will look closely \\nat the roles that are available and what they are individually capable of. We are \\ngoing to go through setting up of users and their details, as well as how to combine \\nmultiple users into teams.\\nWe will go through the following topics in this chapter:\\n• Creating your SSH key\\n• Adding users\\n• Enabling users to sign up\\n• The different permissions\\n• Managing teams\\n• Managing groups\\nFirst steps\\nSince we have just installed and configured GitLab, we would take one of our local \\nGit repositories and attempt to push it to the fresh GitLab installation.\\nLogging in\\nThe default login information for the freshly installed system is admin@local.host, \\nand the password is 5ifeL!fe.')]\n"
     ]
    }
   ],
   "source": [
    "# ...existing code...\n",
    "from langchain.chains import RetrievalQA\n",
    "\n",
    "# Wrap your vector store as a retriever\n",
    "retriever = vector_store.as_retriever()\n",
    "\n",
    "# Create a RetrievalQA chain\n",
    "qa_chain = RetrievalQA.from_chain_type(\n",
    "    llm=llm,\n",
    "    retriever=retriever,\n",
    "    return_source_documents=True,\n",
    ")\n",
    "\n",
    "# Now you can ask questions using the chain\n",
    "result = qa_chain.invoke({\"query\": \"How to manage the Roles and the permissions in GitLab?\"})\n",
    "print(\"Answer:\", result[\"result\"])\n",
    "print(\"Source documents:\", result[\"source_documents\"])\n",
    "# ...existing code..."
   ]
  },
  {
   "cell_type": "code",
   "execution_count": null,
   "id": "7f9052d9",
   "metadata": {},
   "outputs": [],
   "source": []
  }
 ],
 "metadata": {
  "kernelspec": {
   "display_name": "langchain-projects-G2s2kLX8",
   "language": "python",
   "name": "python3"
  },
  "language_info": {
   "codemirror_mode": {
    "name": "ipython",
    "version": 3
   },
   "file_extension": ".py",
   "mimetype": "text/x-python",
   "name": "python",
   "nbconvert_exporter": "python",
   "pygments_lexer": "ipython3",
   "version": "3.12.2"
  }
 },
 "nbformat": 4,
 "nbformat_minor": 5
}
